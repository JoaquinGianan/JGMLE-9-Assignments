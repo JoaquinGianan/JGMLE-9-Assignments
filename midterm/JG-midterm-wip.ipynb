{
 "cells": [
  {
   "cell_type": "code",
   "execution_count": null,
   "metadata": {},
   "outputs": [],
   "source": []
  },
  {
   "cell_type": "code",
   "execution_count": 1,
   "metadata": {},
   "outputs": [],
   "source": [
    "# upload libraries\n",
    "import pandas as pd\n",
    "import numpy as np\n",
    "import matplotlib.pyplot as plt\n",
    "import seaborn as sns\n",
    "\n",
    "#to scale the data using z-score \n",
    "from sklearn.preprocessing import StandardScaler\n",
    "\n",
    "#importing PCA and TSNE\n",
    "from sklearn.decomposition import PCA\n",
    "from sklearn.manifold import TSNE\n",
    "\n",
    "\n",
    "from matplotlib import style\n",
    "style.use('dark_background')"
   ]
  },
  {
   "cell_type": "code",
   "execution_count": 3,
   "metadata": {},
   "outputs": [],
   "source": [
    "#read the datafile into a dataframe\n",
    "data_raw = pd.read_csv(\"dat/online_shoppers_intention.csv.gz\")\n"
   ]
  },
  {
   "cell_type": "code",
   "execution_count": 4,
   "metadata": {},
   "outputs": [
    {
     "name": "stdout",
     "output_type": "stream",
     "text": [
      "<class 'pandas.core.frame.DataFrame'>\n",
      "RangeIndex: 12330 entries, 0 to 12329\n",
      "Data columns (total 18 columns):\n",
      " #   Column                   Non-Null Count  Dtype  \n",
      "---  ------                   --------------  -----  \n",
      " 0   Administrative           12330 non-null  int64  \n",
      " 1   Administrative_Duration  12330 non-null  float64\n",
      " 2   Informational            12330 non-null  int64  \n",
      " 3   Informational_Duration   12330 non-null  float64\n",
      " 4   ProductRelated           12330 non-null  int64  \n",
      " 5   ProductRelated_Duration  12330 non-null  float64\n",
      " 6   BounceRates              12330 non-null  float64\n",
      " 7   ExitRates                12330 non-null  float64\n",
      " 8   PageValues               12330 non-null  float64\n",
      " 9   SpecialDay               12330 non-null  float64\n",
      " 10  Month                    12330 non-null  object \n",
      " 11  OperatingSystems         12330 non-null  int64  \n",
      " 12  Browser                  12330 non-null  int64  \n",
      " 13  Region                   12330 non-null  int64  \n",
      " 14  TrafficType              12330 non-null  int64  \n",
      " 15  VisitorType              12330 non-null  object \n",
      " 16  Weekend                  12330 non-null  bool   \n",
      " 17  Revenue                  12330 non-null  bool   \n",
      "dtypes: bool(2), float64(7), int64(7), object(2)\n",
      "memory usage: 1.5+ MB\n"
     ]
    },
    {
     "data": {
      "text/plain": [
       "((12330, 18),\n",
       "    Administrative  Administrative_Duration  Informational  \\\n",
       " 0               0                      0.0              0   \n",
       " 1               0                      0.0              0   \n",
       " 2               0                      0.0              0   \n",
       " 3               0                      0.0              0   \n",
       " 4               0                      0.0              0   \n",
       " \n",
       "    Informational_Duration  ProductRelated  ProductRelated_Duration  \\\n",
       " 0                     0.0               1                 0.000000   \n",
       " 1                     0.0               2                64.000000   \n",
       " 2                     0.0               1                 0.000000   \n",
       " 3                     0.0               2                 2.666667   \n",
       " 4                     0.0              10               627.500000   \n",
       " \n",
       "    BounceRates  ExitRates  PageValues  SpecialDay Month  OperatingSystems  \\\n",
       " 0         0.20       0.20         0.0         0.0   Feb                 1   \n",
       " 1         0.00       0.10         0.0         0.0   Feb                 2   \n",
       " 2         0.20       0.20         0.0         0.0   Feb                 4   \n",
       " 3         0.05       0.14         0.0         0.0   Feb                 3   \n",
       " 4         0.02       0.05         0.0         0.0   Feb                 3   \n",
       " \n",
       "    Browser  Region  TrafficType        VisitorType  Weekend  Revenue  \n",
       " 0        1       1            1  Returning_Visitor    False    False  \n",
       " 1        2       1            2  Returning_Visitor    False    False  \n",
       " 2        1       9            3  Returning_Visitor    False    False  \n",
       " 3        2       2            4  Returning_Visitor    False    False  \n",
       " 4        3       1            4  Returning_Visitor     True    False  ,\n",
       " None)"
      ]
     },
     "execution_count": 4,
     "metadata": {},
     "output_type": "execute_result"
    }
   ],
   "source": [
    "#revied head and other info of data\n",
    "data_raw.shape , data_raw.head(), data_raw.info()"
   ]
  },
  {
   "cell_type": "code",
   "execution_count": 15,
   "metadata": {},
   "outputs": [
    {
     "data": {
      "text/plain": [
       "(['Administrative',\n",
       "  'Administrative_Duration',\n",
       "  'Informational',\n",
       "  'Informational_Duration',\n",
       "  'ProductRelated',\n",
       "  'ProductRelated_Duration',\n",
       "  'BounceRates',\n",
       "  'ExitRates',\n",
       "  'PageValues',\n",
       "  'SpecialDay',\n",
       "  'OperatingSystems',\n",
       "  'Browser',\n",
       "  'Region',\n",
       "  'TrafficType'],\n",
       " ['Month', 'VisitorType', 'Weekend', 'Revenue'])"
      ]
     },
     "execution_count": 15,
     "metadata": {},
     "output_type": "execute_result"
    }
   ],
   "source": [
    "# storing numerical and categorical feature names\n",
    "\n",
    "from ipaddress import collapse_addresses\n",
    "\n",
    "\n",
    "col_names = [name for name in data_raw.dtypes.index]\n",
    "dtypes = [dtype for dtype in data_raw.dtypes.tolist()]\n",
    "\n",
    "numeric_features = [name for name, dtype in zip(col_names, dtypes) if (dtype == 'int64') | (dtype == 'float64')]\n",
    "categorical_features = [name for name in col_names if name not in numeric_features]\n",
    "\n",
    "numeric_features , categorical_features"
   ]
  },
  {
   "cell_type": "code",
   "execution_count": null,
   "metadata": {},
   "outputs": [],
   "source": []
  },
  {
   "cell_type": "code",
   "execution_count": 6,
   "metadata": {},
   "outputs": [
    {
     "data": {
      "text/plain": [
       "0.15474452554744525"
      ]
     },
     "execution_count": 6,
     "metadata": {},
     "output_type": "execute_result"
    }
   ],
   "source": [
    "data_raw[\"Revenue\"].mean()  #see how many purchases there are as a % of the total observations"
   ]
  },
  {
   "cell_type": "code",
   "execution_count": 7,
   "metadata": {},
   "outputs": [
    {
     "name": "stdout",
     "output_type": "stream",
     "text": [
      "Administrative 27\n",
      "Administrative_Duration 3335\n",
      "Informational 17\n",
      "Informational_Duration 1258\n",
      "ProductRelated 311\n",
      "ProductRelated_Duration 9551\n",
      "BounceRates 1872\n",
      "ExitRates 4777\n",
      "PageValues 2704\n",
      "SpecialDay 6\n",
      "Month 10\n",
      "OperatingSystems 8\n",
      "Browser 13\n",
      "Region 9\n",
      "TrafficType 20\n",
      "VisitorType 3\n",
      "Weekend 2\n",
      "Revenue 2\n"
     ]
    }
   ],
   "source": [
    "# checking unique values for features\n",
    "\n",
    "for column in data_raw.columns:\n",
    "    print( column , len(data_raw[column].unique()))\n",
    "\n"
   ]
  },
  {
   "cell_type": "code",
   "execution_count": 8,
   "metadata": {},
   "outputs": [
    {
     "name": "stdout",
     "output_type": "stream",
     "text": [
      "Administrative\n",
      "[ 0  1  2  4 12  3 10  6  5  9  8 16 13 11  7 18 14 17 19 15 24 22 21 20\n",
      " 23 27 26]\n",
      "\n",
      "Informational\n",
      "[ 0  1  2  4 16  5  3 14  6 12  7  9 10  8 11 24 13]\n",
      "\n",
      "SpecialDay\n",
      "[0.  0.4 0.8 1.  0.2 0.6]\n",
      "\n",
      "Month\n",
      "['Feb' 'Mar' 'May' 'Oct' 'June' 'Jul' 'Aug' 'Nov' 'Sep' 'Dec']\n",
      "\n",
      "OperatingSystems\n",
      "[1 2 4 3 7 6 8 5]\n",
      "\n",
      "Browser\n",
      "[ 1  2  3  4  5  6  7 10  8  9 12 13 11]\n",
      "\n",
      "Region\n",
      "[1 9 2 3 4 5 6 7 8]\n",
      "\n",
      "TrafficType\n",
      "[ 1  2  3  4  5  6  7  8  9 10 11 12 13 14 15 18 19 16 17 20]\n",
      "\n",
      "VisitorType\n",
      "['Returning_Visitor' 'New_Visitor' 'Other']\n",
      "\n",
      "Weekend\n",
      "[False  True]\n",
      "\n",
      "Revenue\n",
      "[False  True]\n",
      "\n"
     ]
    }
   ],
   "source": [
    "# checking unique values in features\n",
    "\n",
    "for column in data_raw.columns:\n",
    "    if len(data_raw[column].unique()) <= 30:\n",
    "        print(column)\n",
    "        print(data_raw[column].unique())\n",
    "        print()\n"
   ]
  },
  {
   "cell_type": "code",
   "execution_count": 9,
   "metadata": {},
   "outputs": [],
   "source": [
    "from sklearn.model_selection import train_test_split\n",
    "from sklearn.pipeline import Pipeline\n",
    "from sklearn.linear_model import LogisticRegression\n",
    "from sklearn.metrics import classification_report"
   ]
  },
  {
   "cell_type": "code",
   "execution_count": null,
   "metadata": {},
   "outputs": [],
   "source": []
  },
  {
   "cell_type": "code",
   "execution_count": 32,
   "metadata": {},
   "outputs": [],
   "source": [
    "# YOUR CODE HERE (imports!)\n",
    "from sklearn.model_selection import train_test_split\n",
    "from sklearn.pipeline import Pipeline\n",
    "from sklearn.linear_model import LogisticRegression\n",
    "from sklearn.metrics import classification_report\n",
    "\n",
    "\n",
    "\n",
    "\n",
    "def train(X, y, standardize = True) -> None:\n",
    "    X_train, X_test, y_train, y_test = train_test_split(X,y, random_state= 0 , test_size= 0.2)\n",
    "\n",
    "    if standardize:\n",
    "        numeric_transformer = Pipeline(steps= [(\"scaler\" , StandardScaler())])\n",
    "        pipeline = Pipeline(steps = [(\"numeric\", numeric_transformer), \n",
    "        (\"logistic_regression\", LogisticRegression(class_weight= \"balanced\", random_state= 0))])\n",
    "\n",
    "    else:\n",
    "        pipeline = Pipeline(steps= [(\"logistic_regresion\", LogisticRegression(class_weight= \"balanced\",random_state= 0))])\n",
    "        \n",
    "\n",
    "    pipeline.fit(X_train, y_train)   \n",
    "\n",
    "    y_pred = pipeline.predict(X_test)\n",
    "\n",
    "\n",
    "    print(classification_report(y_test, y_pred))\n",
    "    \n",
    "    # YOUR CODE HERE"
   ]
  },
  {
   "cell_type": "code",
   "execution_count": 34,
   "metadata": {},
   "outputs": [],
   "source": [
    "# sintax to save data into csv later\n",
    "#df_reduced.to_csv(\"dat/UNR_UDD_reduced.csv\")"
   ]
  },
  {
   "cell_type": "code",
   "execution_count": 11,
   "metadata": {},
   "outputs": [
    {
     "data": {
      "text/plain": [
       "(10422, 1908, 0.15474452554744525)"
      ]
     },
     "execution_count": 11,
     "metadata": {},
     "output_type": "execute_result"
    }
   ],
   "source": [
    "#replacing boolean values in target\n",
    "df_temp = data_raw[\"Revenue\"].replace(to_replace= [\"True\", \"False\"], value= [1 , 0]) #way of replacing the binnary label feature, but have to point to the column to replade\n",
    "(df_temp == 0).sum(), (df_temp == 1).sum(), df_temp.mean()"
   ]
  },
  {
   "cell_type": "code",
   "execution_count": null,
   "metadata": {},
   "outputs": [],
   "source": []
  },
  {
   "cell_type": "code",
   "execution_count": null,
   "metadata": {},
   "outputs": [],
   "source": []
  }
 ],
 "metadata": {
  "kernelspec": {
   "display_name": "Python 3.8.13",
   "language": "python",
   "name": "python3"
  },
  "language_info": {
   "codemirror_mode": {
    "name": "ipython",
    "version": 3
   },
   "file_extension": ".py",
   "mimetype": "text/x-python",
   "name": "python",
   "nbconvert_exporter": "python",
   "pygments_lexer": "ipython3",
   "version": "3.8.13"
  },
  "orig_nbformat": 4,
  "vscode": {
   "interpreter": {
    "hash": "290095bb742939b88273a8583276d7630b426f870a564acf8afa069dfccd475a"
   }
  }
 },
 "nbformat": 4,
 "nbformat_minor": 2
}
